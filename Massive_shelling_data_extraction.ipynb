{
  "nbformat": 4,
  "nbformat_minor": 0,
  "metadata": {
    "colab": {
      "provenance": [],
      "include_colab_link": true
    },
    "kernelspec": {
      "name": "python3",
      "display_name": "Python 3"
    },
    "language_info": {
      "name": "python"
    }
  },
  "cells": [
    {
      "cell_type": "markdown",
      "metadata": {
        "id": "view-in-github",
        "colab_type": "text"
      },
      "source": [
        "<a href=\"https://colab.research.google.com/github/SiaZin/2024-Ukraine-massive-shelling-analysis/blob/main/Massive_shelling_data_extraction.ipynb\" target=\"_parent\"><img src=\"https://colab.research.google.com/assets/colab-badge.svg\" alt=\"Open In Colab\"/></a>"
      ]
    },
    {
      "cell_type": "markdown",
      "source": [
        "##Отримання даних про обстріли з телеграм-каналу\n"
      ],
      "metadata": {
        "id": "yqr356VDFYGq"
      }
    },
    {
      "cell_type": "markdown",
      "source": [
        "<p>The default order is from newest to oldest</p>\n",
        "<p>Message object;   class telethon.tl.custom.message.Message\n",
        "<p>message.date is a datetime object\n",
        "<p>message.message is a str\n",
        "<p>Лише ті message, які мають фото  і які лежать у проміжку 01.01.2024-31.12.2024"
      ],
      "metadata": {
        "id": "HtBpuO_CGI0J"
      }
    },
    {
      "cell_type": "code",
      "execution_count": null,
      "metadata": {
        "colab": {
          "base_uri": "https://localhost:8080/"
        },
        "id": "IGxiKxbY4VLs",
        "outputId": "84df9460-7b17-4025-dc93-5fdd221c12e4"
      },
      "outputs": [
        {
          "output_type": "stream",
          "name": "stdout",
          "text": [
            "Collecting telethon\n",
            "  Downloading Telethon-1.38.1-py3-none-any.whl.metadata (3.6 kB)\n",
            "Collecting pyaes (from telethon)\n",
            "  Downloading pyaes-1.6.1.tar.gz (28 kB)\n",
            "  Preparing metadata (setup.py) ... \u001b[?25l\u001b[?25hdone\n",
            "Requirement already satisfied: rsa in /usr/local/lib/python3.11/dist-packages (from telethon) (4.9)\n",
            "Requirement already satisfied: pyasn1>=0.1.3 in /usr/local/lib/python3.11/dist-packages (from rsa->telethon) (0.6.1)\n",
            "Downloading Telethon-1.38.1-py3-none-any.whl (702 kB)\n",
            "\u001b[2K   \u001b[90m━━━━━━━━━━━━━━━━━━━━━━━━━━━━━━━━━━━━━━━━\u001b[0m \u001b[32m702.2/702.2 kB\u001b[0m \u001b[31m12.6 MB/s\u001b[0m eta \u001b[36m0:00:00\u001b[0m\n",
            "\u001b[?25hBuilding wheels for collected packages: pyaes\n",
            "  Building wheel for pyaes (setup.py) ... \u001b[?25l\u001b[?25hdone\n",
            "  Created wheel for pyaes: filename=pyaes-1.6.1-py3-none-any.whl size=26346 sha256=d4702ccd1280bf55c568ef162dbaacef809b19a18996b8af151b6b6ae9de9884\n",
            "  Stored in directory: /root/.cache/pip/wheels/4e/52/33/010d0843550bffb6a591b11629070ae140c0ad4f53e68a3bd3\n",
            "Successfully built pyaes\n",
            "Installing collected packages: pyaes, telethon\n",
            "Successfully installed pyaes-1.6.1 telethon-1.38.1\n"
          ]
        }
      ],
      "source": [
        "!pip install telethon"
      ]
    },
    {
      "cell_type": "code",
      "source": [
        "!pip install nest_asyncio"
      ],
      "metadata": {
        "colab": {
          "base_uri": "https://localhost:8080/"
        },
        "id": "mow6GPLrHDHc",
        "outputId": "933e1d6f-08b7-4d3b-aec3-ddf54c456963"
      },
      "execution_count": null,
      "outputs": [
        {
          "output_type": "stream",
          "name": "stdout",
          "text": [
            "Requirement already satisfied: nest_asyncio in /usr/local/lib/python3.11/dist-packages (1.6.0)\n"
          ]
        }
      ]
    },
    {
      "cell_type": "code",
      "source": [
        "#await client.disconnect()"
      ],
      "metadata": {
        "id": "BlrJ-g8eHksp"
      },
      "execution_count": null,
      "outputs": []
    },
    {
      "cell_type": "code",
      "source": [
        "import asyncio\n",
        "from telethon.sync import TelegramClient\n",
        "from telethon.tl.types import InputMessagesFilterPhotos\n",
        "#from telethon.tl.functions.messages import GetHistoryRequest\n",
        "from telethon.tl.functions.messages import SearchRequest\n",
        "\n",
        "import nest_asyncio\n",
        "nest_asyncio.apply()\n",
        "\n",
        "import time\n",
        "import datetime"
      ],
      "metadata": {
        "id": "eJ227LQ04YaZ"
      },
      "execution_count": null,
      "outputs": []
    },
    {
      "cell_type": "code",
      "source": [
        "import pandas as pd\n",
        "\n",
        "# Глобальна змінна для збереження DataFrame\n",
        "messages_df = None"
      ],
      "metadata": {
        "id": "G-3XoQVY-74l"
      },
      "execution_count": null,
      "outputs": []
    },
    {
      "cell_type": "code",
      "source": [
        "'''\n",
        "api_id = ***\n",
        "api_hash = '***'\n",
        "'''\n",
        "session_name = 'telegram_session'"
      ],
      "metadata": {
        "id": "44satniP5S23"
      },
      "execution_count": null,
      "outputs": []
    },
    {
      "cell_type": "code",
      "source": [
        "BEGIN_DATE = datetime.datetime(2024, 1, 1, 0, 0, 0)\n",
        "END_DATE = datetime.datetime(2024, 12, 31,23,59,0)"
      ],
      "metadata": {
        "id": "WdIHSaef2jt5"
      },
      "execution_count": null,
      "outputs": []
    },
    {
      "cell_type": "code",
      "source": [
        "# Функція для отримання повідомлень\n",
        "async def fetch_messages():\n",
        "    async with TelegramClient(session_name, api_id, api_hash) as client:\n",
        "        channel_username = 'kpszsu'  # Ім'я каналу\n",
        "        channel = await client.get_entity(channel_username)  # Отримуємо канал\n",
        "\n",
        "        messages = []\n",
        "\n",
        "        # client.iter_messages() повертає екземпляри класу Message\n",
        "        async for message in client.iter_messages(channel, limit=4000, filter = InputMessagesFilterPhotos, wait_time=3, offset_date=END_DATE):\n",
        "            if any(word.lower() in (message.message or '').lower() for word in ['стратегічна авіація', 'Ту-95', 'Ту-22М3', 'комбінований удар','Ту-95мс']):\n",
        "                messages.append({\n",
        "                    'date': message.date,\n",
        "                    'text': message.message\n",
        "                })\n",
        "                #time.sleep(1)\n",
        "        return messages\n",
        "\n",
        "# Виклик асинхронної функції await fetch_messages() або asyncio.run(fetch_messages())\n",
        "\n",
        "async def main():\n",
        "    messages = await fetch_messages()\n",
        "\n",
        "    global messages_df\n",
        "    messages_df = pd.DataFrame(messages)  # Створюємо DataFrame\n",
        "    print(messages_df.head())  # Виводимо перші кілька рядків для перевірки\n",
        "\n",
        "'''\n",
        "    for message in messages:\n",
        "        print(message)\n",
        "'''\n",
        "# Запуск основної асинхронної функції. Точка входу\n",
        "asyncio.run(main())"
      ],
      "metadata": {
        "colab": {
          "base_uri": "https://localhost:8080/"
        },
        "id": "aSU_W2NE6vPw",
        "outputId": "a39eea66-9acd-4cb6-d3c2-49a11d173790"
      },
      "execution_count": null,
      "outputs": [
        {
          "output_type": "stream",
          "name": "stdout",
          "text": [
            "                       date                                               text\n",
            "0 2024-12-31 10:35:21+00:00  ⚡️ ЗБИТО 6 РАКЕТ ТА 16 ВОРОЖИХ БПЛА, ЩЕ 24 БЕЗ...\n",
            "1 2024-12-25 10:43:45+00:00  ⚡️ ЗБИТО 113 ПОВІТРЯНИХ ЦІЛЕЙ \\n➖➖➖➖➖➖➖➖➖➖\\nУ ...\n",
            "2 2024-12-13 09:55:13+00:00  ⚡️ ЗБИТО 81 РАКЕТУ ТА 80 ВОРОЖИХ БПЛА, ЩЕ 105 ...\n",
            "3 2024-11-28 08:52:47+00:00  ⚡️ ЗБИТО 76 КРИЛАТИХ РАКЕТ, 3 КЕРОВАНІ АВІАЦІЙ...\n",
            "4 2024-11-21 07:23:23+00:00  ⚡️ ЗБИТО ШІСТЬ КРИЛАТИХ РАКЕТ\\n➖➖➖➖➖➖➖➖➖➖\\nУра...\n"
          ]
        }
      ]
    },
    {
      "cell_type": "code",
      "source": [
        "messages_df"
      ],
      "metadata": {
        "colab": {
          "base_uri": "https://localhost:8080/",
          "height": 423
        },
        "id": "LzZztvNa7tSC",
        "outputId": "79964dbb-8fba-4960-8ace-bfb94c192f30"
      },
      "execution_count": null,
      "outputs": [
        {
          "output_type": "execute_result",
          "data": {
            "text/plain": [
              "                        date  \\\n",
              "0  2024-12-31 10:35:21+00:00   \n",
              "1  2024-12-25 10:43:45+00:00   \n",
              "2  2024-12-13 09:55:13+00:00   \n",
              "3  2024-11-28 08:52:47+00:00   \n",
              "4  2024-11-21 07:23:23+00:00   \n",
              "..                       ...   \n",
              "72 2022-06-05 09:30:55+00:00   \n",
              "73 2022-05-25 20:22:03+00:00   \n",
              "74 2022-05-03 21:01:56+00:00   \n",
              "75 2022-04-25 08:58:09+00:00   \n",
              "76 2022-03-01 18:40:26+00:00   \n",
              "\n",
              "                                                 text  \n",
              "0   ⚡️ ЗБИТО 6 РАКЕТ ТА 16 ВОРОЖИХ БПЛА, ЩЕ 24 БЕЗ...  \n",
              "1   ⚡️ ЗБИТО 113 ПОВІТРЯНИХ ЦІЛЕЙ \\n➖➖➖➖➖➖➖➖➖➖\\nУ ...  \n",
              "2   ⚡️ ЗБИТО 81 РАКЕТУ ТА 80 ВОРОЖИХ БПЛА, ЩЕ 105 ...  \n",
              "3   ⚡️ ЗБИТО 76 КРИЛАТИХ РАКЕТ, 3 КЕРОВАНІ АВІАЦІЙ...  \n",
              "4   ⚡️ ЗБИТО ШІСТЬ КРИЛАТИХ РАКЕТ\\n➖➖➖➖➖➖➖➖➖➖\\nУра...  \n",
              "..                                                ...  \n",
              "72  🇺🇦 Повітряне командування «Центр» інформує:\\n⚡...  \n",
              "73  УКРАЇНСЬКІ ВИНИЩУВАЧІ ЗБИВАЮТЬ ДВІ КРИЛАТІ РАК...  \n",
              "74  Увечері 3 травня – повітряна тривога по всій т...  \n",
              "75  🇺🇦Повітряне командування «Захід» інформує:\\n\\n...  \n",
              "76  ПО ЖІНКАХ ТА ДІТЯХ – ВИСОКОТОЧНОЮ ЗБРОЄЮ\\nУчор...  \n",
              "\n",
              "[77 rows x 2 columns]"
            ],
            "text/html": [
              "\n",
              "  <div id=\"df-b9bcfb2a-e3bf-4a88-9614-4e2bcf4405ed\" class=\"colab-df-container\">\n",
              "    <div>\n",
              "<style scoped>\n",
              "    .dataframe tbody tr th:only-of-type {\n",
              "        vertical-align: middle;\n",
              "    }\n",
              "\n",
              "    .dataframe tbody tr th {\n",
              "        vertical-align: top;\n",
              "    }\n",
              "\n",
              "    .dataframe thead th {\n",
              "        text-align: right;\n",
              "    }\n",
              "</style>\n",
              "<table border=\"1\" class=\"dataframe\">\n",
              "  <thead>\n",
              "    <tr style=\"text-align: right;\">\n",
              "      <th></th>\n",
              "      <th>date</th>\n",
              "      <th>text</th>\n",
              "    </tr>\n",
              "  </thead>\n",
              "  <tbody>\n",
              "    <tr>\n",
              "      <th>0</th>\n",
              "      <td>2024-12-31 10:35:21+00:00</td>\n",
              "      <td>⚡️ ЗБИТО 6 РАКЕТ ТА 16 ВОРОЖИХ БПЛА, ЩЕ 24 БЕЗ...</td>\n",
              "    </tr>\n",
              "    <tr>\n",
              "      <th>1</th>\n",
              "      <td>2024-12-25 10:43:45+00:00</td>\n",
              "      <td>⚡️ ЗБИТО 113 ПОВІТРЯНИХ ЦІЛЕЙ \\n➖➖➖➖➖➖➖➖➖➖\\nУ ...</td>\n",
              "    </tr>\n",
              "    <tr>\n",
              "      <th>2</th>\n",
              "      <td>2024-12-13 09:55:13+00:00</td>\n",
              "      <td>⚡️ ЗБИТО 81 РАКЕТУ ТА 80 ВОРОЖИХ БПЛА, ЩЕ 105 ...</td>\n",
              "    </tr>\n",
              "    <tr>\n",
              "      <th>3</th>\n",
              "      <td>2024-11-28 08:52:47+00:00</td>\n",
              "      <td>⚡️ ЗБИТО 76 КРИЛАТИХ РАКЕТ, 3 КЕРОВАНІ АВІАЦІЙ...</td>\n",
              "    </tr>\n",
              "    <tr>\n",
              "      <th>4</th>\n",
              "      <td>2024-11-21 07:23:23+00:00</td>\n",
              "      <td>⚡️ ЗБИТО ШІСТЬ КРИЛАТИХ РАКЕТ\\n➖➖➖➖➖➖➖➖➖➖\\nУра...</td>\n",
              "    </tr>\n",
              "    <tr>\n",
              "      <th>...</th>\n",
              "      <td>...</td>\n",
              "      <td>...</td>\n",
              "    </tr>\n",
              "    <tr>\n",
              "      <th>72</th>\n",
              "      <td>2022-06-05 09:30:55+00:00</td>\n",
              "      <td>🇺🇦 Повітряне командування «Центр» інформує:\\n⚡...</td>\n",
              "    </tr>\n",
              "    <tr>\n",
              "      <th>73</th>\n",
              "      <td>2022-05-25 20:22:03+00:00</td>\n",
              "      <td>УКРАЇНСЬКІ ВИНИЩУВАЧІ ЗБИВАЮТЬ ДВІ КРИЛАТІ РАК...</td>\n",
              "    </tr>\n",
              "    <tr>\n",
              "      <th>74</th>\n",
              "      <td>2022-05-03 21:01:56+00:00</td>\n",
              "      <td>Увечері 3 травня – повітряна тривога по всій т...</td>\n",
              "    </tr>\n",
              "    <tr>\n",
              "      <th>75</th>\n",
              "      <td>2022-04-25 08:58:09+00:00</td>\n",
              "      <td>🇺🇦Повітряне командування «Захід» інформує:\\n\\n...</td>\n",
              "    </tr>\n",
              "    <tr>\n",
              "      <th>76</th>\n",
              "      <td>2022-03-01 18:40:26+00:00</td>\n",
              "      <td>ПО ЖІНКАХ ТА ДІТЯХ – ВИСОКОТОЧНОЮ ЗБРОЄЮ\\nУчор...</td>\n",
              "    </tr>\n",
              "  </tbody>\n",
              "</table>\n",
              "<p>77 rows × 2 columns</p>\n",
              "</div>\n",
              "    <div class=\"colab-df-buttons\">\n",
              "\n",
              "  <div class=\"colab-df-container\">\n",
              "    <button class=\"colab-df-convert\" onclick=\"convertToInteractive('df-b9bcfb2a-e3bf-4a88-9614-4e2bcf4405ed')\"\n",
              "            title=\"Convert this dataframe to an interactive table.\"\n",
              "            style=\"display:none;\">\n",
              "\n",
              "  <svg xmlns=\"http://www.w3.org/2000/svg\" height=\"24px\" viewBox=\"0 -960 960 960\">\n",
              "    <path d=\"M120-120v-720h720v720H120Zm60-500h600v-160H180v160Zm220 220h160v-160H400v160Zm0 220h160v-160H400v160ZM180-400h160v-160H180v160Zm440 0h160v-160H620v160ZM180-180h160v-160H180v160Zm440 0h160v-160H620v160Z\"/>\n",
              "  </svg>\n",
              "    </button>\n",
              "\n",
              "  <style>\n",
              "    .colab-df-container {\n",
              "      display:flex;\n",
              "      gap: 12px;\n",
              "    }\n",
              "\n",
              "    .colab-df-convert {\n",
              "      background-color: #E8F0FE;\n",
              "      border: none;\n",
              "      border-radius: 50%;\n",
              "      cursor: pointer;\n",
              "      display: none;\n",
              "      fill: #1967D2;\n",
              "      height: 32px;\n",
              "      padding: 0 0 0 0;\n",
              "      width: 32px;\n",
              "    }\n",
              "\n",
              "    .colab-df-convert:hover {\n",
              "      background-color: #E2EBFA;\n",
              "      box-shadow: 0px 1px 2px rgba(60, 64, 67, 0.3), 0px 1px 3px 1px rgba(60, 64, 67, 0.15);\n",
              "      fill: #174EA6;\n",
              "    }\n",
              "\n",
              "    .colab-df-buttons div {\n",
              "      margin-bottom: 4px;\n",
              "    }\n",
              "\n",
              "    [theme=dark] .colab-df-convert {\n",
              "      background-color: #3B4455;\n",
              "      fill: #D2E3FC;\n",
              "    }\n",
              "\n",
              "    [theme=dark] .colab-df-convert:hover {\n",
              "      background-color: #434B5C;\n",
              "      box-shadow: 0px 1px 3px 1px rgba(0, 0, 0, 0.15);\n",
              "      filter: drop-shadow(0px 1px 2px rgba(0, 0, 0, 0.3));\n",
              "      fill: #FFFFFF;\n",
              "    }\n",
              "  </style>\n",
              "\n",
              "    <script>\n",
              "      const buttonEl =\n",
              "        document.querySelector('#df-b9bcfb2a-e3bf-4a88-9614-4e2bcf4405ed button.colab-df-convert');\n",
              "      buttonEl.style.display =\n",
              "        google.colab.kernel.accessAllowed ? 'block' : 'none';\n",
              "\n",
              "      async function convertToInteractive(key) {\n",
              "        const element = document.querySelector('#df-b9bcfb2a-e3bf-4a88-9614-4e2bcf4405ed');\n",
              "        const dataTable =\n",
              "          await google.colab.kernel.invokeFunction('convertToInteractive',\n",
              "                                                    [key], {});\n",
              "        if (!dataTable) return;\n",
              "\n",
              "        const docLinkHtml = 'Like what you see? Visit the ' +\n",
              "          '<a target=\"_blank\" href=https://colab.research.google.com/notebooks/data_table.ipynb>data table notebook</a>'\n",
              "          + ' to learn more about interactive tables.';\n",
              "        element.innerHTML = '';\n",
              "        dataTable['output_type'] = 'display_data';\n",
              "        await google.colab.output.renderOutput(dataTable, element);\n",
              "        const docLink = document.createElement('div');\n",
              "        docLink.innerHTML = docLinkHtml;\n",
              "        element.appendChild(docLink);\n",
              "      }\n",
              "    </script>\n",
              "  </div>\n",
              "\n",
              "\n",
              "<div id=\"df-88ed92c6-95b6-4203-9545-eb0121916931\">\n",
              "  <button class=\"colab-df-quickchart\" onclick=\"quickchart('df-88ed92c6-95b6-4203-9545-eb0121916931')\"\n",
              "            title=\"Suggest charts\"\n",
              "            style=\"display:none;\">\n",
              "\n",
              "<svg xmlns=\"http://www.w3.org/2000/svg\" height=\"24px\"viewBox=\"0 0 24 24\"\n",
              "     width=\"24px\">\n",
              "    <g>\n",
              "        <path d=\"M19 3H5c-1.1 0-2 .9-2 2v14c0 1.1.9 2 2 2h14c1.1 0 2-.9 2-2V5c0-1.1-.9-2-2-2zM9 17H7v-7h2v7zm4 0h-2V7h2v10zm4 0h-2v-4h2v4z\"/>\n",
              "    </g>\n",
              "</svg>\n",
              "  </button>\n",
              "\n",
              "<style>\n",
              "  .colab-df-quickchart {\n",
              "      --bg-color: #E8F0FE;\n",
              "      --fill-color: #1967D2;\n",
              "      --hover-bg-color: #E2EBFA;\n",
              "      --hover-fill-color: #174EA6;\n",
              "      --disabled-fill-color: #AAA;\n",
              "      --disabled-bg-color: #DDD;\n",
              "  }\n",
              "\n",
              "  [theme=dark] .colab-df-quickchart {\n",
              "      --bg-color: #3B4455;\n",
              "      --fill-color: #D2E3FC;\n",
              "      --hover-bg-color: #434B5C;\n",
              "      --hover-fill-color: #FFFFFF;\n",
              "      --disabled-bg-color: #3B4455;\n",
              "      --disabled-fill-color: #666;\n",
              "  }\n",
              "\n",
              "  .colab-df-quickchart {\n",
              "    background-color: var(--bg-color);\n",
              "    border: none;\n",
              "    border-radius: 50%;\n",
              "    cursor: pointer;\n",
              "    display: none;\n",
              "    fill: var(--fill-color);\n",
              "    height: 32px;\n",
              "    padding: 0;\n",
              "    width: 32px;\n",
              "  }\n",
              "\n",
              "  .colab-df-quickchart:hover {\n",
              "    background-color: var(--hover-bg-color);\n",
              "    box-shadow: 0 1px 2px rgba(60, 64, 67, 0.3), 0 1px 3px 1px rgba(60, 64, 67, 0.15);\n",
              "    fill: var(--button-hover-fill-color);\n",
              "  }\n",
              "\n",
              "  .colab-df-quickchart-complete:disabled,\n",
              "  .colab-df-quickchart-complete:disabled:hover {\n",
              "    background-color: var(--disabled-bg-color);\n",
              "    fill: var(--disabled-fill-color);\n",
              "    box-shadow: none;\n",
              "  }\n",
              "\n",
              "  .colab-df-spinner {\n",
              "    border: 2px solid var(--fill-color);\n",
              "    border-color: transparent;\n",
              "    border-bottom-color: var(--fill-color);\n",
              "    animation:\n",
              "      spin 1s steps(1) infinite;\n",
              "  }\n",
              "\n",
              "  @keyframes spin {\n",
              "    0% {\n",
              "      border-color: transparent;\n",
              "      border-bottom-color: var(--fill-color);\n",
              "      border-left-color: var(--fill-color);\n",
              "    }\n",
              "    20% {\n",
              "      border-color: transparent;\n",
              "      border-left-color: var(--fill-color);\n",
              "      border-top-color: var(--fill-color);\n",
              "    }\n",
              "    30% {\n",
              "      border-color: transparent;\n",
              "      border-left-color: var(--fill-color);\n",
              "      border-top-color: var(--fill-color);\n",
              "      border-right-color: var(--fill-color);\n",
              "    }\n",
              "    40% {\n",
              "      border-color: transparent;\n",
              "      border-right-color: var(--fill-color);\n",
              "      border-top-color: var(--fill-color);\n",
              "    }\n",
              "    60% {\n",
              "      border-color: transparent;\n",
              "      border-right-color: var(--fill-color);\n",
              "    }\n",
              "    80% {\n",
              "      border-color: transparent;\n",
              "      border-right-color: var(--fill-color);\n",
              "      border-bottom-color: var(--fill-color);\n",
              "    }\n",
              "    90% {\n",
              "      border-color: transparent;\n",
              "      border-bottom-color: var(--fill-color);\n",
              "    }\n",
              "  }\n",
              "</style>\n",
              "\n",
              "  <script>\n",
              "    async function quickchart(key) {\n",
              "      const quickchartButtonEl =\n",
              "        document.querySelector('#' + key + ' button');\n",
              "      quickchartButtonEl.disabled = true;  // To prevent multiple clicks.\n",
              "      quickchartButtonEl.classList.add('colab-df-spinner');\n",
              "      try {\n",
              "        const charts = await google.colab.kernel.invokeFunction(\n",
              "            'suggestCharts', [key], {});\n",
              "      } catch (error) {\n",
              "        console.error('Error during call to suggestCharts:', error);\n",
              "      }\n",
              "      quickchartButtonEl.classList.remove('colab-df-spinner');\n",
              "      quickchartButtonEl.classList.add('colab-df-quickchart-complete');\n",
              "    }\n",
              "    (() => {\n",
              "      let quickchartButtonEl =\n",
              "        document.querySelector('#df-88ed92c6-95b6-4203-9545-eb0121916931 button');\n",
              "      quickchartButtonEl.style.display =\n",
              "        google.colab.kernel.accessAllowed ? 'block' : 'none';\n",
              "    })();\n",
              "  </script>\n",
              "</div>\n",
              "\n",
              "  <div id=\"id_23028e4e-1871-4b55-83a1-6eed3a049a71\">\n",
              "    <style>\n",
              "      .colab-df-generate {\n",
              "        background-color: #E8F0FE;\n",
              "        border: none;\n",
              "        border-radius: 50%;\n",
              "        cursor: pointer;\n",
              "        display: none;\n",
              "        fill: #1967D2;\n",
              "        height: 32px;\n",
              "        padding: 0 0 0 0;\n",
              "        width: 32px;\n",
              "      }\n",
              "\n",
              "      .colab-df-generate:hover {\n",
              "        background-color: #E2EBFA;\n",
              "        box-shadow: 0px 1px 2px rgba(60, 64, 67, 0.3), 0px 1px 3px 1px rgba(60, 64, 67, 0.15);\n",
              "        fill: #174EA6;\n",
              "      }\n",
              "\n",
              "      [theme=dark] .colab-df-generate {\n",
              "        background-color: #3B4455;\n",
              "        fill: #D2E3FC;\n",
              "      }\n",
              "\n",
              "      [theme=dark] .colab-df-generate:hover {\n",
              "        background-color: #434B5C;\n",
              "        box-shadow: 0px 1px 3px 1px rgba(0, 0, 0, 0.15);\n",
              "        filter: drop-shadow(0px 1px 2px rgba(0, 0, 0, 0.3));\n",
              "        fill: #FFFFFF;\n",
              "      }\n",
              "    </style>\n",
              "    <button class=\"colab-df-generate\" onclick=\"generateWithVariable('messages_df')\"\n",
              "            title=\"Generate code using this dataframe.\"\n",
              "            style=\"display:none;\">\n",
              "\n",
              "  <svg xmlns=\"http://www.w3.org/2000/svg\" height=\"24px\"viewBox=\"0 0 24 24\"\n",
              "       width=\"24px\">\n",
              "    <path d=\"M7,19H8.4L18.45,9,17,7.55,7,17.6ZM5,21V16.75L18.45,3.32a2,2,0,0,1,2.83,0l1.4,1.43a1.91,1.91,0,0,1,.58,1.4,1.91,1.91,0,0,1-.58,1.4L9.25,21ZM18.45,9,17,7.55Zm-12,3A5.31,5.31,0,0,0,4.9,8.1,5.31,5.31,0,0,0,1,6.5,5.31,5.31,0,0,0,4.9,4.9,5.31,5.31,0,0,0,6.5,1,5.31,5.31,0,0,0,8.1,4.9,5.31,5.31,0,0,0,12,6.5,5.46,5.46,0,0,0,6.5,12Z\"/>\n",
              "  </svg>\n",
              "    </button>\n",
              "    <script>\n",
              "      (() => {\n",
              "      const buttonEl =\n",
              "        document.querySelector('#id_23028e4e-1871-4b55-83a1-6eed3a049a71 button.colab-df-generate');\n",
              "      buttonEl.style.display =\n",
              "        google.colab.kernel.accessAllowed ? 'block' : 'none';\n",
              "\n",
              "      buttonEl.onclick = () => {\n",
              "        google.colab.notebook.generateWithVariable('messages_df');\n",
              "      }\n",
              "      })();\n",
              "    </script>\n",
              "  </div>\n",
              "\n",
              "    </div>\n",
              "  </div>\n"
            ],
            "application/vnd.google.colaboratory.intrinsic+json": {
              "type": "dataframe",
              "variable_name": "messages_df",
              "summary": "{\n  \"name\": \"messages_df\",\n  \"rows\": 77,\n  \"fields\": [\n    {\n      \"column\": \"date\",\n      \"properties\": {\n        \"dtype\": \"date\",\n        \"min\": \"2022-03-01 18:40:26+00:00\",\n        \"max\": \"2024-12-31 10:35:21+00:00\",\n        \"num_unique_values\": 77,\n        \"samples\": [\n          \"2024-11-21 07:23:23+00:00\",\n          \"2024-02-07 08:03:54+00:00\",\n          \"2024-09-04 06:38:57+00:00\"\n        ],\n        \"semantic_type\": \"\",\n        \"description\": \"\"\n      }\n    },\n    {\n      \"column\": \"text\",\n      \"properties\": {\n        \"dtype\": \"string\",\n        \"num_unique_values\": 77,\n        \"samples\": [\n          \"\\u26a1\\ufe0f \\u0417\\u0411\\u0418\\u0422\\u041e \\u0428\\u0406\\u0421\\u0422\\u042c \\u041a\\u0420\\u0418\\u041b\\u0410\\u0422\\u0418\\u0425 \\u0420\\u0410\\u041a\\u0415\\u0422\\n\\u2796\\u2796\\u2796\\u2796\\u2796\\u2796\\u2796\\u2796\\u2796\\u2796\\n\\u0423\\u0440\\u0430\\u043d\\u0446\\u0456 21 \\u043b\\u0438\\u0441\\u0442\\u043e\\u043f\\u0430\\u0434\\u0430 2024 \\u0440\\u043e\\u043a\\u0443 \\u0432 \\u043f\\u0435\\u0440\\u0456\\u043e\\u0434 \\u0437 05.00 \\u043f\\u043e 07.00 \\u0440\\u043e\\u0441\\u0456\\u0439\\u0441\\u044c\\u043a\\u0456 \\u0432\\u0456\\u0439\\u0441\\u044c\\u043a\\u0430 \\u0430\\u0442\\u0430\\u043a\\u0443\\u0432\\u0430\\u043b\\u0438 \\u043c\\u0456\\u0441\\u0442\\u043e \\u0414\\u043d\\u0456\\u043f\\u0440\\u043e (\\u043f\\u0456\\u0434\\u043f\\u0440\\u0438\\u0454\\u043c\\u0441\\u0442\\u0432\\u0430 \\u0442\\u0430 \\u043a\\u0440\\u0438\\u0442\\u0438\\u0447\\u043d\\u0443 \\u0456\\u043d\\u0444\\u0440\\u0430\\u0441\\u0442\\u0440\\u0443\\u043a\\u0442\\u0443\\u0440\\u0443) \\u0440\\u0430\\u043a\\u0435\\u0442\\u0430\\u043c\\u0438 \\u0440\\u0456\\u0437\\u043d\\u0438\\u0445 \\u0442\\u0438\\u043f\\u0456\\u0432. \\u0417\\u043e\\u043a\\u0440\\u0435\\u043c\\u0430, \\u0456\\u0437 \\u0410\\u0441\\u0442\\u0440\\u0430\\u0445\\u0430\\u043d\\u0441\\u044c\\u043a\\u043e\\u0457 \\u043e\\u0431\\u043b\\u0430\\u0441\\u0442\\u0456 \\u0440\\u0444 \\u0431\\u0443\\u043b\\u043e \\u0437\\u0430\\u043f\\u0443\\u0449\\u0435\\u043d\\u043e \\u043c\\u0456\\u0436\\u043a\\u043e\\u043d\\u0442\\u0438\\u043d\\u0435\\u043d\\u0442\\u0430\\u043b\\u044c\\u043d\\u0443 \\u0431\\u0430\\u043b\\u0456\\u0441\\u0442\\u0438\\u0447\\u043d\\u0443 \\u0440\\u0430\\u043a\\u0435\\u0442\\u0443, \\u0456\\u0437 \\u0422\\u0430\\u043c\\u0431\\u043e\\u0432\\u0441\\u044c\\u043a\\u043e\\u0457 \\u043e\\u0431\\u043b\\u0430\\u0441\\u0442\\u0456 \\u0437 \\u0432\\u0438\\u043d\\u0438\\u0449\\u0443\\u0432\\u0430\\u0447\\u0430 \\u041c\\u0456\\u0413-31\\u041a \\u2014 \\u0430\\u0435\\u0440\\u043e\\u0431\\u0430\\u043b\\u0456\\u0441\\u0442\\u0438\\u0447\\u043d\\u0443 \\u0440\\u0430\\u043a\\u0435\\u0442\\u0443 \\u0425-47\\u041c2 \\u00ab\\u041a\\u0438\\u043d\\u0434\\u0436\\u0430\\u043b\\u00bb, \\u0456\\u0437 \\u0441\\u0442\\u0440\\u0430\\u0442\\u0435\\u0433\\u0456\\u0447\\u043d\\u0438\\u0445 \\u0431\\u043e\\u043c\\u0431\\u0430\\u0440\\u0434\\u0443\\u0432\\u0430\\u043b\\u044c\\u043d\\u0438\\u043a\\u0456\\u0432 \\u0422\\u0443-95\\u041c\\u0421 \\u0441\\u0456\\u043c \\u043a\\u0440\\u0438\\u043b\\u0430\\u0442\\u0438\\u0445 \\u0440\\u0430\\u043a\\u0435\\u0442 \\u0425-101 (\\u0440\\u0430\\u0439\\u043e\\u043d \\u043f\\u0443\\u0441\\u043a\\u0456\\u0432 \\u2014 \\u0412\\u043e\\u043b\\u0433\\u043e\\u0433\\u0440\\u0430\\u0434\\u0441\\u044c\\u043a\\u0430 \\u043e\\u0431\\u043b.).\\n\\n\\ud83d\\udca5 \\u0412\\u043d\\u0430\\u0441\\u043b\\u0456\\u0434\\u043e\\u043a \\u043f\\u0440\\u043e\\u0442\\u0438\\u043f\\u043e\\u0432\\u0456\\u0442\\u0440\\u044f\\u043d\\u043e\\u0433\\u043e \\u0431\\u043e\\u044e \\u043f\\u0456\\u0434\\u0440\\u043e\\u0437\\u0434\\u0456\\u043b\\u0430\\u043c\\u0438 \\u0437\\u0435\\u043d\\u0456\\u0442\\u043d\\u0438\\u0445 \\u0440\\u0430\\u043a\\u0435\\u0442\\u043d\\u0438\\u0445 \\u0432\\u0456\\u0439\\u0441\\u044c\\u043a \\u041f\\u043e\\u0432\\u0456\\u0442\\u0440\\u044f\\u043d\\u0438\\u0445 \\u0421\\u0438\\u043b \\u0437\\u043d\\u0438\\u0449\\u0435\\u043d\\u043e \\u0448\\u0456\\u0441\\u0442\\u044c \\u0440\\u0430\\u043a\\u0435\\u0442 \\u0425-101. \\u041f\\u043e \\u0456\\u043d\\u0448\\u0438\\u0445 \\u0440\\u0430\\u043a\\u0435\\u0442\\u0430\\u0445 \\u2013 \\u0431\\u0435\\u0437 \\u0441\\u0443\\u0442\\u0442\\u0454\\u0432\\u0438\\u0445 \\u043d\\u0430\\u0441\\u043b\\u0456\\u0434\\u043a\\u0456\\u0432.\\n\\n\\u0406\\u043d\\u0444\\u043e\\u0440\\u043c\\u0430\\u0446\\u0456\\u044f \\u043f\\u0440\\u043e \\u0436\\u0435\\u0440\\u0442\\u0432 \\u0442\\u0430 \\u043f\\u043e\\u0441\\u0442\\u0440\\u0430\\u0436\\u0434\\u0430\\u043b\\u0438\\u0445 \\u043d\\u0430 \\u0434\\u0430\\u043d\\u0438\\u0439 \\u0447\\u0430\\u0441 \\u043d\\u0435 \\u043d\\u0430\\u0434\\u0445\\u043e\\u0434\\u0438\\u043b\\u0430. \\u0423\\u0447\\u0435\\u0440\\u0433\\u043e\\u0432\\u0435 \\u043f\\u0440\\u043e\\u0441\\u0438\\u043c\\u043e \\u0433\\u0440\\u043e\\u043c\\u0430\\u0434\\u044f\\u043d \\u043d\\u0435 \\u0437\\u0432\\u043e\\u043b\\u0456\\u043a\\u0430\\u0442\\u0438 \\u0441\\u0438\\u0433\\u043d\\u0430\\u043b\\u0430\\u043c\\u0438 \\u043f\\u043e\\u0432\\u0456\\u0442\\u0440\\u044f\\u043d\\u043e\\u0457 \\u0442\\u0440\\u0438\\u0432\\u043e\\u0433\\u0438! \\u0406 \\u0437\\u0430\\u043a\\u043b\\u0438\\u043a\\u0430\\u0454\\u043c\\u043e \\u0432\\u0441\\u0456\\u0445 \\u043c\\u0435\\u0434\\u0456\\u0439\\u043d\\u0438\\u043a\\u0456\\u0432 \\u0442\\u0430 \\u0431\\u043b\\u043e\\u0433\\u0435\\u0440\\u0456\\u0432 \\u0432\\u0456\\u0434\\u043f\\u043e\\u0432\\u0456\\u0434\\u0430\\u043b\\u044c\\u043d\\u043e \\u043f\\u043e\\u0448\\u0438\\u0440\\u044e\\u0432\\u0430\\u0442\\u0438 \\u0442\\u0443 \\u0447\\u0438 \\u0456\\u043d\\u0448\\u0443 \\u0456\\u043d\\u0444\\u043e\\u0440\\u043c\\u0430\\u0446\\u0456\\u044e \\u0449\\u043e\\u0434\\u043e \\u0431\\u043e\\u0439\\u043e\\u0432\\u043e\\u0457 \\u0440\\u043e\\u0431\\u043e\\u0442\\u0438 \\u0417\\u0431\\u0440\\u043e\\u0439\\u043d\\u0438\\u0445 \\u0421\\u0438\\u043b \\u0423\\u043a\\u0440\\u0430\\u0457\\u043d\\u0438 \\u0456 \\u0431\\u0443\\u0434\\u044c-\\u044f\\u043a\\u0438\\u0445 \\u0437\\u0430\\u0433\\u0440\\u043e\\u0437 \\u0423\\u043a\\u0440\\u0430\\u0457\\u043d\\u0441\\u044c\\u043a\\u0456\\u0439 \\u0434\\u0435\\u0440\\u0436\\u0430\\u0432\\u0456.\\n\\ud83c\\uddfa\\ud83c\\udde6 \\u0420\\u0430\\u0437\\u043e\\u043c\\u00a0\\u2014\\u00a0\\u0434\\u043e\\u00a0\\u043f\\u0435\\u0440\\u0435\\u043c\\u043e\\u0433\\u0438!\",\n          \"\\u26a1\\ufe0f \\u0417\\u041d\\u0418\\u0429\\u0415\\u041d\\u041e 44 \\u041f\\u041e\\u0412\\u0406\\u0422\\u0420\\u042f\\u041d\\u0406 \\u0426\\u0406\\u041b\\u0406: 29 \\u0420\\u0410\\u041a\\u0415\\u0422 \\u0422\\u0410 15 \\u0423\\u0414\\u0410\\u0420\\u041d\\u0418\\u0425 \\u0411\\u041f\\u041b\\u0410\\n\\u2796\\u2796\\u2796\\u2796\\u2796\\u2796\\u2796\\u2796\\u2796\\u2796\\u2796\\u2796\\u2796\\u2796\\n\\u041d\\u0430 \\u043f\\u043e\\u0447\\u0430\\u0442\\u043a\\u0443 \\u0434\\u043e\\u0431\\u0438 7 \\u043b\\u044e\\u0442\\u043e\\u0433\\u043e 2024 \\u0440\\u043e\\u043a\\u0443 \\u043f\\u0440\\u043e\\u0442\\u0438\\u0432\\u043d\\u0438\\u043a \\u0437\\u0434\\u0456\\u0439\\u0441\\u043d\\u0438\\u0432 \\u043a\\u0456\\u043b\\u044c\\u043a\\u0430 \\u0443\\u0434\\u0430\\u0440\\u0456\\u0432 \\u043f\\u043e \\u0442\\u0435\\u0440\\u0438\\u0442\\u043e\\u0440\\u0456\\u0457 \\u0423\\u043a\\u0440\\u0430\\u0457\\u043d\\u0438, \\u0432\\u0438\\u043a\\u043e\\u0440\\u0438\\u0441\\u0442\\u043e\\u0432\\u0443\\u044e\\u0447\\u0438 \\u0440\\u0456\\u0437\\u043d\\u0456 \\u0437\\u0430\\u0441\\u043e\\u0431\\u0438 \\u043f\\u043e\\u0432\\u0456\\u0442\\u0440\\u044f\\u043d\\u043e\\u0433\\u043e \\u043d\\u0430\\u043f\\u0430\\u0434\\u0443 \\u2013 \\u0443\\u0434\\u0430\\u0440\\u043d\\u0456 \\u0411\\u043f\\u041b\\u0410, \\u043a\\u0440\\u0438\\u043b\\u0430\\u0442\\u0456, \\u0431\\u0430\\u043b\\u0456\\u0441\\u0442\\u0438\\u0447\\u043d\\u0456 \\u0442\\u0430 \\u0437\\u0435\\u043d\\u0456\\u0442\\u043d\\u0456 \\u043a\\u0435\\u0440\\u043e\\u0432\\u0430\\u043d\\u0456 \\u0440\\u0430\\u043a\\u0435\\u0442\\u0438.\\n\\n\\u0417\\u0430\\u0433\\u0430\\u043b\\u043e\\u043c \\u0437\\u0430\\u0441\\u0442\\u043e\\u0441\\u043e\\u0432\\u0430\\u043d\\u043e 64 \\u0437\\u0430\\u0441\\u043e\\u0431\\u0438 \\u043f\\u043e\\u0432\\u0456\\u0442\\u0440\\u044f\\u043d\\u043e\\u0433\\u043e \\u043d\\u0430\\u043f\\u0430\\u0434\\u0443:\\n\\u26a0\\ufe0f 20 \\u0443\\u0434\\u0430\\u0440\\u043d\\u0438\\u0445 \\u0411\\u043f\\u041b\\u0410 \\u0442\\u0438\\u043f\\u0443 \\u00abShahed-136/131\\u00bb (\\u0427\\u0430\\u0443\\u0434\\u0430 \\u2013 \\u041a\\u0440\\u0438\\u043c);\\n\\u2757 29 \\u043a\\u0440\\u0438\\u043b\\u0430\\u0442\\u0438\\u0445 \\u0440\\u0430\\u043a\\u0435\\u0442 \\u0425-101/\\u0425-555/\\u0425-55 \\u0437 10-\\u0442\\u0438 \\u043b\\u0456\\u0442\\u0430\\u043a\\u0456\\u0432 \\u0441\\u0442\\u0440\\u0430\\u0442\\u0435\\u0433\\u0456\\u0447\\u043d\\u043e\\u0457 \\u0430\\u0432\\u0456\\u0430\\u0446\\u0456\\u0457 \\u0422\\u0443-95\\u041c\\u0421 (\\u043f\\u0443\\u0441\\u043a\\u0438 \\u2013 \\u0415\\u043d\\u0433\\u0435\\u043b\\u044c\\u0441, \\u041a\\u0430\\u0441\\u043f\\u0456\\u0439\\u0441\\u044c\\u043a\\u0435 \\u043c\\u043e\\u0440\\u0435);\\n\\u2757 4 \\u043a\\u0440\\u0438\\u043b\\u0430\\u0442\\u0456 \\u0440\\u0430\\u043a\\u0435\\u0442\\u0438 \\u0425-22 \\u0437 \\u0431\\u043e\\u043c\\u0431\\u0430\\u0440\\u0434\\u0443\\u0432\\u0430\\u043b\\u044c\\u043d\\u0438\\u043a\\u0456\\u0432 \\u0422\\u0443-22\\u041c3 (\\u0440\\u0430\\u0439\\u043e\\u043d \\u043f\\u0443\\u0441\\u043a\\u0456\\u0432 \\u0421\\u0435\\u0432\\u0430\\u0441\\u0442\\u043e\\u043f\\u043e\\u043b\\u044c, \\u041a\\u0443\\u0440\\u0441\\u044c\\u043a);\\n\\u2757 3 \\u043a\\u0440\\u0438\\u043b\\u0430\\u0442\\u0456 \\u0440\\u0430\\u043a\\u0435\\u0442\\u0438 \\u043c\\u043e\\u0440\\u0441\\u044c\\u043a\\u043e\\u0433\\u043e \\u0431\\u0430\\u0437\\u0443\\u0432\\u0430\\u043d\\u043d\\u044f \\u00ab\\u041a\\u0430\\u043b\\u0456\\u0431\\u0440\\u00bb \\u0437 \\u043d\\u043e\\u0441\\u0456\\u0457\\u0432 \\u0443 \\u0427\\u043e\\u0440\\u043d\\u043e\\u043c\\u0443 \\u043c\\u043e\\u0440\\u0456 (\\u0440\\u0430\\u0439\\u043e\\u043d \\u043f\\u0443\\u0441\\u043a\\u0456\\u0432 \\u2013 \\u041d\\u043e\\u0432\\u043e\\u0440\\u043e\\u0441\\u0456\\u0439\\u0441\\u044c\\u043a);\\n\\u2757 3 \\u0431\\u0430\\u043b\\u0456\\u0441\\u0442\\u0438\\u0447\\u043d\\u0456 \\u0440\\u0430\\u043a\\u0435\\u0442\\u0438 \\u00ab\\u0406\\u0441\\u043a\\u0430\\u043d\\u0434\\u0435\\u0440-\\u041c\\u00bb (\\u043f\\u0443\\u0441\\u043a\\u0438 \\u0456\\u0437 \\u043c\\u0438\\u0441\\u0443 \\u0422\\u0430\\u0440\\u0445\\u0430\\u043d\\u043a\\u0443\\u0442 \\u2013 \\u041a\\u0440\\u0438\\u043c, \\u0412\\u043e\\u0440\\u043e\\u043d\\u0435\\u0437\\u044c\\u043a\\u043e\\u0457 \\u043e\\u0431\\u043b. \\u2013 \\u0440\\u0444.);\\n\\u2757 5 \\u0437\\u0435\\u043d\\u0456\\u0442\\u043d\\u0438\\u0445 \\u043a\\u0435\\u0440\\u043e\\u0432\\u0430\\u043d\\u0438\\u0445 \\u0440\\u0430\\u043a\\u0435\\u0442 \\u0421-300 (\\u0440\\u0430\\u0439\\u043e\\u043d \\u043f\\u0443\\u0441\\u043a\\u0456\\u0432 \\u2013 \\u0411\\u0454\\u043b\\u0433\\u043e\\u0440\\u043e\\u0434\\u0441\\u044c\\u043a\\u0430 \\u043e\\u0431\\u043b. \\u2013\\u0440\\u0444.).\\n\\n\\ud83d\\udca5 \\u0412 \\u0440\\u0435\\u0437\\u0443\\u043b\\u044c\\u0442\\u0430\\u0442\\u0456 \\u0431\\u043e\\u0439\\u043e\\u0432\\u043e\\u0457 \\u0440\\u043e\\u0431\\u043e\\u0442\\u0438 \\u0432\\u043e\\u0433\\u043d\\u0435\\u0432\\u0438\\u043c\\u0438 \\u0437\\u0430\\u0441\\u043e\\u0431\\u0430\\u043c\\u0438 \\u041f\\u043e\\u0432\\u0456\\u0442\\u0440\\u044f\\u043d\\u0438\\u0445 \\u0421\\u0438\\u043b \\u0442\\u0430 \\u0421\\u0438\\u043b \\u043e\\u0431\\u043e\\u0440\\u043e\\u043d\\u0438 \\u0437\\u043d\\u0438\\u0449\\u0435\\u043d\\u043e 44 \\u043f\\u043e\\u0432\\u0456\\u0442\\u0440\\u044f\\u043d\\u0456 \\u0446\\u0456\\u043b\\u0456:\\n\\n\\u2757 26 \\u043a\\u0440\\u0438\\u043b\\u0430\\u0442\\u0438\\u0445 \\u0440\\u0430\\u043a\\u0435\\u0442 \\u0425-101/\\u0425-555/\\u0425-55; \\n\\u2757 3 \\u043a\\u0440\\u0438\\u043b\\u0430\\u0442\\u0456 \\u0440\\u0430\\u043a\\u0435\\u0442\\u0438 \\u00ab\\u041a\\u0430\\u043b\\u0456\\u0431\\u0440\\u00bb;\\n\\u26a0\\ufe0f 15 \\u0443\\u0434\\u0430\\u0440\\u043d\\u0438\\u0445 \\u0411\\u043f\\u041b\\u0410 \\u0442\\u0438\\u043f\\u0443 \\u00abShahed-136/131\\u00bb.\\n\\n\\u0423 \\u0432\\u0456\\u0434\\u0431\\u0438\\u0442\\u0442\\u0456 \\u043f\\u043e\\u0432\\u0456\\u0442\\u0440\\u044f\\u043d\\u043e\\u0433\\u043e \\u043d\\u0430\\u043f\\u0430\\u0434\\u0443 \\u0437\\u0430\\u0441\\u0442\\u043e\\u0441\\u043e\\u0432\\u0443\\u0432\\u0430\\u043b\\u0438\\u0441\\u044c \\u0437\\u0435\\u043d\\u0456\\u0442\\u043d\\u0456 \\u0440\\u0430\\u043a\\u0435\\u0442\\u043d\\u0456 \\u0432\\u0456\\u0439\\u0441\\u044c\\u043a\\u0430 \\u0442\\u0430 \\u0432\\u0438\\u043d\\u0438\\u0449\\u0443\\u0432\\u0430\\u043b\\u044c\\u043d\\u0430 \\u0430\\u0432\\u0456\\u0430\\u0446\\u0456\\u044f \\u041f\\u043e\\u0432\\u0456\\u0442\\u0440\\u044f\\u043d\\u0438\\u0445 \\u0421\\u0438\\u043b, \\u043f\\u0456\\u0434\\u0440\\u043e\\u0437\\u0434\\u0456\\u043b\\u0438 \\u043c\\u043e\\u0431\\u0456\\u043b\\u044c\\u043d\\u0438\\u0445 \\u0432\\u043e\\u0433\\u043d\\u0435\\u0432\\u0438\\u0445 \\u0433\\u0440\\u0443\\u043f \\u0421\\u0438\\u043b \\u043e\\u0431\\u043e\\u0440\\u043e\\u043d\\u0438 \\u0423\\u043a\\u0440\\u0430\\u0457\\u043d\\u0438, \\u0437\\u0430\\u0441\\u043e\\u0431\\u0438 \\u0440\\u0430\\u0434\\u0456\\u043e\\u0435\\u043b\\u0435\\u043a\\u0442\\u0440\\u043e\\u043d\\u043d\\u043e\\u0457 \\u0431\\u043e\\u0440\\u043e\\u0442\\u044c\\u0431\\u0438.\\n\\n\\u270a\\u0422\\u0440\\u0438\\u043c\\u0430\\u0439\\u043c\\u043e \\u043d\\u0435\\u0431\\u043e!\\n\\ud83c\\uddfa\\ud83c\\udde6 \\u0420\\u0430\\u0437\\u043e\\u043c\\u00a0\\u2013\\u00a0\\u0434\\u043e\\u00a0\\u043f\\u0435\\u0440\\u0435\\u043c\\u043e\\u0433\\u0438!\",\n          \"\\u26a1\\ufe0f \\u0417\\u0411\\u0418\\u0422\\u041e 22 \\u0423\\u0414\\u0410\\u0420\\u041d\\u0406 \\u0411\\u041f\\u041b\\u0410 \\u0422\\u0410 \\u0421\\u0406\\u041c \\u041a\\u0420\\u0418\\u041b\\u0410\\u0422\\u0418\\u0425 \\u0420\\u0410\\u041a\\u0415\\u0422\\n\\u2796\\u2796\\u2796\\u2796\\u2796\\u2796\\u2796\\u2796\\u2796\\u2796\\n\\u0423 \\u043d\\u0456\\u0447 \\u043d\\u0430 4 \\u0432\\u0435\\u0440\\u0435\\u0441\\u043d\\u044f 2024 \\u0440\\u043e\\u043a\\u0443 \\u0432\\u043e\\u0440\\u043e\\u0433 \\u0437\\u0430\\u0432\\u0434\\u0430\\u0432 \\u0443\\u0434\\u0430\\u0440\\u0443 \\u043f\\u043e \\u0423\\u043a\\u0440\\u0430\\u0457\\u043d\\u0456 \\u0440\\u0430\\u043a\\u0435\\u0442\\u0430\\u043c\\u0438 \\u043f\\u043e\\u0432\\u0456\\u0442\\u0440\\u044f\\u043d\\u043e\\u0433\\u043e \\u0442\\u0430 \\u043d\\u0430\\u0437\\u0435\\u043c\\u043d\\u043e\\u0433\\u043e \\u0431\\u0430\\u0437\\u0443\\u0432\\u0430\\u043d\\u043d\\u044f, \\u0430 \\u0442\\u0430\\u043a\\u043e\\u0436 \\u0443\\u0434\\u0430\\u0440\\u043d\\u0438\\u043c\\u0438 \\u0411\\u043f\\u041b\\u0410 \\u0442\\u0438\\u043f\\u0443 \\u00abShahed\\u00bb.\\n\\n\\u0417\\u0430\\u0433\\u0430\\u043b\\u043e\\u043c \\u0440\\u0430\\u0434\\u0456\\u043e\\u0442\\u0435\\u0445\\u043d\\u0456\\u0447\\u043d\\u0438\\u043c\\u0438 \\u0432\\u0456\\u0439\\u0441\\u044c\\u043a\\u0430\\u043c\\u0438 \\u041f\\u043e\\u0432\\u0456\\u0442\\u0440\\u044f\\u043d\\u0438\\u0445 \\u0421\\u0438\\u043b \\u0432\\u0438\\u044f\\u0432\\u043b\\u0435\\u043d\\u043e \\u0442\\u0430 \\u0437\\u0434\\u0456\\u0439\\u0441\\u043d\\u0435\\u043d\\u043e \\u0441\\u0443\\u043f\\u0440\\u043e\\u0432\\u0456\\u0434 42 \\u043f\\u043e\\u0432\\u0456\\u0442\\u0440\\u044f\\u043d\\u0438\\u0445 \\u0446\\u0456\\u043b\\u0435\\u0439:\\n- 2 \\u0430\\u0435\\u0440\\u043e\\u0431\\u0430\\u043b\\u0456\\u0441\\u0442\\u0438\\u0447\\u043d\\u0456 \\u0440\\u0430\\u043a\\u0435\\u0442\\u0438 \\u0425-47 \\u041c2 \\u00ab\\u041a\\u0438\\u043d\\u0434\\u0436\\u0430\\u043b\\u00bb \\u0456\\u0437 \\u043b\\u0456\\u0442\\u0430\\u043a\\u0456\\u0432 \\u041c\\u0456\\u0413-31\\u041a \\u0437 \\u043f\\u043e\\u0432\\u0456\\u0442\\u0440\\u044f\\u043d\\u043e\\u0433\\u043e \\u043f\\u0440\\u043e\\u0441\\u0442\\u043e\\u0440\\u0443 \\u0422\\u0443\\u043b\\u044c\\u0441\\u044c\\u043a\\u043e\\u0457 \\u043e\\u0431\\u043b. \\u2013 \\u0440\\u0444.;\\n- 2 \\u043a\\u0440\\u0438\\u043b\\u0430\\u0442\\u0456 \\u0440\\u0430\\u043a\\u0435\\u0442\\u0438 \\u0425-22 \\u0456\\u0437 \\u043b\\u0456\\u0442\\u0430\\u043a\\u0456\\u0432 \\u0422\\u0443-22\\u041c3 \\u0437 \\u043f\\u043e\\u0432\\u0456\\u0442\\u0440\\u044f\\u043d\\u043e\\u0433\\u043e \\u043f\\u0440\\u043e\\u0441\\u0442\\u043e\\u0440\\u0443 \\u043d\\u0430\\u0434 \\u0430\\u043a\\u0432\\u0430\\u0442\\u043e\\u0440\\u0456\\u0454\\u044e \\u0427\\u043e\\u0440\\u043d\\u043e\\u0433\\u043e \\u043c\\u043e\\u0440\\u044f;\\n- 6 \\u043a\\u0440\\u0438\\u043b\\u0430\\u0442\\u0438\\u0445 \\u0440\\u0430\\u043a\\u0435\\u0442 \\u0425-101 \\u0456\\u0437 \\u043b\\u0456\\u0442\\u0430\\u043a\\u0456\\u0432 \\u0422\\u0443-95\\u041c\\u0421 \\u0437 \\u043f\\u043e\\u0432\\u0456\\u0442\\u0440\\u044f\\u043d\\u043e\\u0433\\u043e \\u043f\\u0440\\u043e\\u0441\\u0442\\u043e\\u0440\\u0443 \\u0412\\u043e\\u043b\\u0433\\u043e\\u0433\\u0440\\u0430\\u0434\\u0441\\u044c\\u043a\\u043e\\u0457 \\u043e\\u0431\\u043b\\u0430\\u0441\\u0442\\u0456 \\u2013 \\u0440\\u0444.;\\n- 3 \\u043a\\u0440\\u0438\\u043b\\u0430\\u0442\\u0456 \\u0440\\u0430\\u043a\\u0435\\u0442\\u0438 \\u00ab\\u0406\\u0441\\u043a\\u0430\\u043d\\u0434\\u0435\\u0440-\\u041a\\u00bb \\u0456\\u0437 \\u0442\\u0435\\u0440\\u0438\\u0442\\u043e\\u0440\\u0456\\u0457 \\u043e\\u043a\\u0443\\u043f\\u043e\\u0432\\u0430\\u043d\\u043e\\u0433\\u043e \\u041a\\u0440\\u0438\\u043c\\u0443;\\n- 29 \\u0443\\u0434\\u0430\\u0440\\u043d\\u0438\\u0445 \\u0411\\u043f\\u041b\\u0410 \\u00abShahed-131/136 (\\u0440\\u0430\\u0439\\u043e\\u043d\\u0438 \\u043f\\u0443\\u0441\\u043a\\u0456\\u0432 \\u041a\\u0443\\u0440\\u0441\\u044c\\u043a\\u0430 \\u043e\\u0431\\u043b. \\u2013 \\u0440\\u0444).\\n\\n\\u0414\\u043e \\u0432\\u0456\\u0434\\u0431\\u0438\\u0442\\u0442\\u044f \\u043f\\u043e\\u0432\\u0456\\u0442\\u0440\\u044f\\u043d\\u043e\\u0433\\u043e \\u043d\\u0430\\u043f\\u0430\\u0434\\u0443 \\u043f\\u0440\\u043e\\u0442\\u0438\\u0432\\u043d\\u0438\\u043a\\u0430 \\u0437\\u0430\\u043b\\u0443\\u0447\\u0430\\u043b\\u0438\\u0441\\u044c \\u0430\\u0432\\u0456\\u0430\\u0446\\u0456\\u044f, \\u0437\\u0435\\u043d\\u0456\\u0442\\u043d\\u0456 \\u0440\\u0430\\u043a\\u0435\\u0442\\u043d\\u0456 \\u0432\\u0456\\u0439\\u0441\\u044c\\u043a\\u0430, \\u043f\\u0456\\u0434\\u0440\\u043e\\u0437\\u0434\\u0456\\u043b\\u0438 \\u0420\\u0415\\u0411 \\u0442\\u0430 \\u043c\\u043e\\u0431\\u0456\\u043b\\u044c\\u043d\\u0456 \\u0432\\u043e\\u0433\\u043d\\u0435\\u0432\\u0456 \\u0433\\u0440\\u0443\\u043f\\u0438 \\u041f\\u043e\\u0432\\u0456\\u0442\\u0440\\u044f\\u043d\\u0438\\u0445 \\u0421\\u0438\\u043b \\u0442\\u0430 \\u0421\\u0438\\u043b \\u043e\\u0431\\u043e\\u0440\\u043e\\u043d\\u0438 \\u0423\\u043a\\u0440\\u0430\\u0457\\u043d\\u0438.\\n\\n\\n\\ud83d\\udca5 \\u0412 \\u0440\\u0435\\u0437\\u0443\\u043b\\u044c\\u0442\\u0430\\u0442\\u0456 \\u043f\\u0440\\u043e\\u0442\\u0438\\u043f\\u043e\\u0432\\u0456\\u0442\\u0440\\u044f\\u043d\\u043e\\u0433\\u043e \\u0431\\u043e\\u044e \\u0437\\u0431\\u0438\\u0442\\u043e 29 \\u043f\\u043e\\u0432\\u0456\\u0442\\u0440\\u044f\\u043d\\u0438\\u0445 \\u0446\\u0456\\u043b\\u0435\\u0439:\\n- 4 \\u043a\\u0440\\u0438\\u043b\\u0430\\u0442\\u0456 \\u0440\\u0430\\u043a\\u0435\\u0442\\u0438 \\u0425-101;\\n- 3 \\u043a\\u0440\\u0438\\u043b\\u0430\\u0442\\u0456 \\u0440\\u0430\\u043a\\u0435\\u0442\\u0438 \\u00ab\\u0406\\u0441\\u043a\\u0430\\u043d\\u0434\\u0435\\u0440-\\u041a\\u00bb;\\n- 22 \\u0443\\u0434\\u0430\\u0440\\u043d\\u0456 \\u0411\\u043f\\u041b\\u0410 \\u00abShahed-131/136.\\n\\n\\u0428\\u0456\\u0441\\u0442\\u044c \\u0443\\u0434\\u0430\\u0440\\u043d\\u0438\\u0445 \\u0431\\u0435\\u0437\\u043f\\u0456\\u043b\\u043e\\u0442\\u043d\\u0438\\u043a\\u0456\\u0432 \\u043b\\u043e\\u043a\\u0430\\u0446\\u0456\\u0439\\u043d\\u043e \\u0432\\u0442\\u0440\\u0430\\u0447\\u0435\\u043d\\u043e (\\u0456\\u043c\\u043e\\u0432\\u0456\\u0440\\u043d\\u043e \\u043f\\u043e\\u0434\\u0430\\u0432\\u043b\\u0435\\u043d\\u0456 \\u0420\\u0415\\u0411), \\u043e\\u0434\\u0438\\u043d \\u2013 \\u043f\\u043e\\u043b\\u0435\\u0442\\u0456\\u0432 \\u0443 \\u0411\\u0456\\u043b\\u043e\\u0440\\u0443\\u0441\\u044c.\\n\\n\\u041f\\u0440\\u043e\\u0442\\u0438\\u043f\\u043e\\u0432\\u0456\\u0442\\u0440\\u044f\\u043d\\u0430 \\u043e\\u0431\\u043e\\u0440\\u043e\\u043d\\u0430 \\u043f\\u0440\\u0430\\u0446\\u044e\\u0432\\u0430\\u043b\\u0430 \\u0443 \\u041b\\u044c\\u0432\\u0456\\u0432\\u0441\\u044c\\u043a\\u0456\\u0439, \\u0406\\u0432\\u0430\\u043d\\u043e-\\u0424\\u0440\\u0430\\u043d\\u043a\\u0456\\u0432\\u0441\\u044c\\u043a\\u0456\\u0439, \\u0427\\u0435\\u0440\\u043d\\u0456\\u0433\\u0456\\u0432\\u0441\\u044c\\u043a\\u0456\\u0439, \\u0414\\u043d\\u0456\\u043f\\u0440\\u043e\\u043f\\u0435\\u0442\\u0440\\u043e\\u0432\\u0441\\u044c\\u043a\\u0456\\u0439, \\u0412\\u043e\\u043b\\u0438\\u043d\\u0441\\u044c\\u043a\\u0456\\u0439, \\u0422\\u0435\\u0440\\u043d\\u043e\\u043f\\u0456\\u043b\\u044c\\u0441\\u044c\\u043a\\u0456\\u0439, \\u041a\\u0438\\u0457\\u0432\\u0441\\u044c\\u043a\\u0456\\u0439, \\u0416\\u0438\\u0442\\u043e\\u043c\\u0438\\u0440\\u0441\\u044c\\u043a\\u0456\\u0439, \\u041f\\u043e\\u043b\\u0442\\u0430\\u0432\\u0441\\u044c\\u043a\\u0456\\u0439 \\u0442\\u0430 \\u0421\\u0443\\u043c\\u0441\\u044c\\u043a\\u0456\\u0439 \\u043e\\u0431\\u043b\\u0430\\u0441\\u0442\\u044f\\u0445.\\n\\n\\ud83c\\uddfa\\ud83c\\udde6 \\u0420\\u0430\\u0437\\u043e\\u043c \\u0434\\u043e \\u043f\\u0435\\u0440\\u0435\\u043c\\u043e\\u0433\\u0438!\"\n        ],\n        \"semantic_type\": \"\",\n        \"description\": \"\"\n      }\n    }\n  ]\n}"
            }
          },
          "metadata": {},
          "execution_count": 13
        }
      ]
    },
    {
      "cell_type": "code",
      "source": [
        "print(\"Остаточний DataFrame:\")\n",
        "print(messages_df.info())"
      ],
      "metadata": {
        "id": "ojFjS53HH0Qd",
        "colab": {
          "base_uri": "https://localhost:8080/"
        },
        "outputId": "1a3389a4-fc0b-419b-d59c-4da71037ade6"
      },
      "execution_count": null,
      "outputs": [
        {
          "output_type": "stream",
          "name": "stdout",
          "text": [
            "Остаточний DataFrame:\n",
            "<class 'pandas.core.frame.DataFrame'>\n",
            "RangeIndex: 77 entries, 0 to 76\n",
            "Data columns (total 2 columns):\n",
            " #   Column  Non-Null Count  Dtype              \n",
            "---  ------  --------------  -----              \n",
            " 0   date    77 non-null     datetime64[ns, UTC]\n",
            " 1   text    77 non-null     object             \n",
            "dtypes: datetime64[ns, UTC](1), object(1)\n",
            "memory usage: 1.3+ KB\n",
            "None\n"
          ]
        }
      ]
    },
    {
      "cell_type": "code",
      "source": [
        "messages_df.to_csv('Shelling_raw_data.csv')    #saves in UTF-8, cause problems with Excel for ukrainian"
      ],
      "metadata": {
        "id": "_dzbvVO4Cidf"
      },
      "execution_count": null,
      "outputs": []
    }
  ]
}