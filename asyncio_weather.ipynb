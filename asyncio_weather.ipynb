{
  "nbformat": 4,
  "nbformat_minor": 0,
  "metadata": {
    "colab": {
      "provenance": [],
      "include_colab_link": true
    },
    "kernelspec": {
      "name": "python3",
      "display_name": "Python 3"
    },
    "language_info": {
      "name": "python"
    }
  },
  "cells": [
    {
      "cell_type": "markdown",
      "metadata": {
        "id": "view-in-github",
        "colab_type": "text"
      },
      "source": [
        "<a href=\"https://colab.research.google.com/github/SiaZin/2024-Ukraine-massive-shelling-analysis/blob/main/asyncio_weather.ipynb\" target=\"_parent\"><img src=\"https://colab.research.google.com/assets/colab-badge.svg\" alt=\"Open In Colab\"/></a>"
      ]
    },
    {
      "cell_type": "markdown",
      "source": [
        "##Отримання даних про погоду під час обстрілів\n",
        "<p>На вхід подаються дати Test_dates = [\"2024-06-14\",\"2024-07-08\", \"2024-10-22\"]\n",
        "<p>На виході отримуєм pandas dataframe\n",
        "<p>Наразі список дат неповний"
      ],
      "metadata": {
        "id": "o-vdCVshudX1"
      }
    },
    {
      "cell_type": "code",
      "source": [
        "!git clone https://github.com/SiaZin/2024-Ukraine-massive-shelling-analysis.git"
      ],
      "metadata": {
        "colab": {
          "base_uri": "https://localhost:8080/"
        },
        "id": "VumJMgxSDsl-",
        "outputId": "c11cacc7-4c82-4580-e7c3-c3b8e01dd83a"
      },
      "execution_count": 1,
      "outputs": [
        {
          "output_type": "stream",
          "name": "stdout",
          "text": [
            "Cloning into '2024-Ukraine-massive-shelling-analysis'...\n",
            "remote: Enumerating objects: 6, done.\u001b[K\n",
            "remote: Counting objects: 100% (6/6), done.\u001b[K\n",
            "remote: Compressing objects: 100% (5/5), done.\u001b[K\n",
            "remote: Total 6 (delta 0), reused 0 (delta 0), pack-reused 0 (from 0)\u001b[K\n",
            "Receiving objects: 100% (6/6), 4.34 KiB | 4.34 MiB/s, done.\n"
          ]
        }
      ]
    },
    {
      "cell_type": "code",
      "source": [
        "import asyncio\n",
        "import time\n",
        "import aiohttp\n",
        "from aiohttp import ClientSession\n",
        "\n",
        "import nest_asyncio\n",
        "nest_asyncio.apply()\n",
        "\n",
        "import pandas as pd"
      ],
      "metadata": {
        "id": "Tvx2B5GE7C8T"
      },
      "execution_count": null,
      "outputs": []
    },
    {
      "cell_type": "code",
      "source": [
        "import datetime\n",
        "import pytz  # Для точного врахування часових поясів\n",
        "\n",
        "#Так яу обстріли проходять зранку, вимір темпаратури буде відносно 8 ранку\n",
        "\n",
        "def get_utc_timestamp(date_str, time_str='08:00'):\n",
        "    \"\"\"\n",
        "    Перетворює дату і час в форматі 'YYYY-MM-DD' і 'HH:MM' на Unix timestamp, UTC time zone (dt API call parameter).\n",
        "    \"\"\"\n",
        "    local = pytz.timezone('Europe/Kiev')\n",
        "    local_time = datetime.datetime.strptime(f\"{date_str} {time_str}\", \"%Y-%m-%d %H:%M\")\n",
        "    local_time = local.localize(local_time)  # Прив'язка до локального часового поясу\n",
        "    utc_time = local_time.astimezone(pytz.utc)  # Конвертація в UTC\n",
        "    return int(utc_time.timestamp())\n",
        "\n",
        "# Тест функції\n",
        "print(get_utc_timestamp(\"2024-06-14\", \"08:00\"))"
      ],
      "metadata": {
        "colab": {
          "base_uri": "https://localhost:8080/"
        },
        "id": "3NK-D3_zm5tM",
        "outputId": "0ddf82f8-b88f-45aa-c444-c9bec43445c9"
      },
      "execution_count": null,
      "outputs": [
        {
          "output_type": "stream",
          "name": "stdout",
          "text": [
            "1718341200\n"
          ]
        }
      ]
    },
    {
      "cell_type": "code",
      "source": [
        "'''\n",
        "DATES = [\n",
        "    {'date': '2024-06-14 08:00', 'timestamp': int(time.mktime(time.strptime('2024-06-14 08:00', '%Y-%m-%d %H:%M')))},\n",
        "    {'date': '2024-07-08 08:00', 'timestamp': int(time.mktime(time.strptime('2024-07-08 08:00', '%Y-%m-%d %H:%M')))},\n",
        "    {'date': '2024-10-22 08:00', 'timestamp': int(time.mktime(time.strptime('2024-10-22 08:00', '%Y-%m-%d %H:%M')))},\n",
        "]\n",
        "'''\n",
        "\n",
        "Test_dates = [\"2024-06-14\",\"2024-07-08\", \"2024-10-22\"]\n",
        "\n",
        "# Дати та час для запитів\n",
        "DATES = []\n",
        "\n",
        "for date in Test_dates:\n",
        "    utc_timestamp = get_utc_timestamp(date)\n",
        "    DATES.append({'date': f'{date} 08:00', 'timestamp': utc_timestamp})\n",
        "\n",
        "# Перевірка результату\n",
        "print(DATES)"
      ],
      "metadata": {
        "colab": {
          "base_uri": "https://localhost:8080/"
        },
        "id": "U1gGhd3zoCu2",
        "outputId": "6c22667c-f6b6-404c-eecd-0375a2340667"
      },
      "execution_count": null,
      "outputs": [
        {
          "output_type": "stream",
          "name": "stdout",
          "text": [
            "[{'date': '2024-06-14 08:00', 'timestamp': 1718341200}, {'date': '2024-07-08 08:00', 'timestamp': 1720414800}, {'date': '2024-10-22 08:00', 'timestamp': 1729573200}]\n"
          ]
        }
      ]
    },
    {
      "cell_type": "code",
      "source": [
        "# Мій API ключ для OpenWeatherMap з доступом до One Call API 3.0.Stored in Google Colab secrets\n",
        "API_KEY = '***'\n",
        "\n",
        "# Список обласних центрів України, які знаходяться під контролем уряду\n",
        "'''\n",
        "CITIES = [\n",
        "    {'city': 'Kyiv', 'lat': 50.4501, 'lon': 30.5234},\n",
        "    {'city': 'Lviv', 'lat': 49.8397, 'lon': 24.0297},\n",
        "    {'city': 'Odesa', 'lat': 46.4825, 'lon': 30.7233},\n",
        "    # для тесту\n",
        "]\n",
        "'''\n",
        "\n",
        "CITIES = [\n",
        "    {'city': 'Kyiv', 'lat': 50.4501, 'lon': 30.5234},\n",
        "    {'city': 'Lviv', 'lat': 49.8397, 'lon': 24.0297},\n",
        "    {'city': 'Odesa', 'lat': 46.4825, 'lon': 30.7233},\n",
        "    {'city': 'Kharkiv', 'lat': 49.9935, 'lon': 36.2304},\n",
        "    {'city': 'Dnipro', 'lat': 48.4647, 'lon': 35.0462},\n",
        "    {'city': 'Zaporizhzhia', 'lat': 47.8388, 'lon': 35.1396},\n",
        "    {'city': 'Mykolaiv', 'lat': 46.9750, 'lon': 31.9946},\n",
        "    {'city': 'Kherson', 'lat': 46.6354, 'lon': 32.6169},\n",
        "    {'city': 'Poltava', 'lat': 49.5883, 'lon': 34.5514},\n",
        "    {'city': 'Vinnytsia', 'lat': 49.2328, 'lon': 28.4809},\n",
        "    {'city': 'Chernihiv', 'lat': 51.4982, 'lon': 31.2893},\n",
        "    {'city': 'Sumy', 'lat': 50.9077, 'lon': 34.7981},\n",
        "    {'city': 'Cherkasy', 'lat': 49.4285, 'lon': 32.0621},\n",
        "    {'city': 'Zhytomyr', 'lat': 50.2547, 'lon': 28.6587},\n",
        "    {'city': 'Chernivtsi', 'lat': 48.2915, 'lon': 25.9403},\n",
        "    {'city': 'Ivano-Frankivsk', 'lat': 48.9226, 'lon': 24.7104},\n",
        "    {'city': 'Ternopil', 'lat': 49.5535, 'lon': 25.5948},\n",
        "    {'city': 'Lutsk', 'lat': 50.7472, 'lon': 25.3254},\n",
        "    {'city': 'Rivne', 'lat': 50.6199, 'lon': 26.2516},\n",
        "    {'city': 'Uzhhorod', 'lat': 48.6210, 'lon': 22.2879},\n",
        "]\n",
        "\n",
        "# Функція для отримання даних про погоду для міста та дати\n",
        "async def get_weather_for_city_and_date(session, city, lat, lon, date, timestamp):\n",
        "    url = 'https://api.openweathermap.org/data/3.0/onecall/timemachine'\n",
        "    params = {\n",
        "        'lat': lat,\n",
        "        'lon': lon,\n",
        "        'dt': timestamp,\n",
        "        'appid': API_KEY,\n",
        "        'units': 'metric'  # Одиниці виміру: Цельсії\n",
        "    }\n",
        "\n",
        "    async with session.get(url, params=params) as response:\n",
        "        if response.status == 200:\n",
        "            data = await response.json()\n",
        "            # Відбираємо перший запис погоди з поля \"data\"\n",
        "            weather = data['data'][0]\n",
        "            return {\n",
        "                'city': city,\n",
        "                'date': date,\n",
        "                'temperature': weather['temp'],\n",
        "                'description': weather['weather'][0]['description'],\n",
        "            }\n",
        "        else:\n",
        "            return {\n",
        "                'city': city,\n",
        "                'date': date,\n",
        "                'temperature': None,\n",
        "                'description': None\n",
        "            }\n",
        "\n",
        "# Функція для збирання даних про погоду\n",
        "async def collect_weather_data(cities, dates):\n",
        "    async with ClientSession() as session:\n",
        "        tasks = []\n",
        "        for date_info in dates:\n",
        "            for city_info in cities:\n",
        "                tasks.append(get_weather_for_city_and_date(\n",
        "                    session,\n",
        "                    city_info['city'],\n",
        "                    city_info['lat'],\n",
        "                    city_info['lon'],\n",
        "                    date_info['date'],\n",
        "                    date_info['timestamp']\n",
        "                ))\n",
        "\n",
        "        results = await asyncio.gather(*tasks)\n",
        "        return results\n",
        "\n",
        "# Основна функція\n",
        "async def main():\n",
        "    weather_data = await collect_weather_data(CITIES, DATES)\n",
        "    df = pd.DataFrame(weather_data)\n",
        "    #print(df)\n",
        "    return df\n",
        "\n",
        "# Запуск\n",
        "weather_df = asyncio.run(main())\n",
        "\n",
        "\n",
        "#Перевірка\n",
        "print(weather_df)\n"
      ],
      "metadata": {
        "colab": {
          "base_uri": "https://localhost:8080/"
        },
        "id": "V-pb1BHvmugv",
        "outputId": "254c088e-185d-4799-f4cd-5dbcf56b06e6"
      },
      "execution_count": null,
      "outputs": [
        {
          "output_type": "stream",
          "name": "stdout",
          "text": [
            "    city              date  temperature       description\n",
            "0   Kyiv  2024-06-14 08:00        18.87   overcast clouds\n",
            "1   Lviv  2024-06-14 08:00        11.91   overcast clouds\n",
            "2  Odesa  2024-06-14 08:00        20.65   overcast clouds\n",
            "3   Kyiv  2024-07-08 08:00        23.42  scattered clouds\n",
            "4   Lviv  2024-07-08 08:00        21.33  scattered clouds\n",
            "5  Odesa  2024-07-08 08:00        26.04         clear sky\n",
            "6   Kyiv  2024-10-22 08:00         3.28     broken clouds\n",
            "7   Lviv  2024-10-22 08:00         0.48   overcast clouds\n",
            "8  Odesa  2024-10-22 08:00         6.71         clear sky\n"
          ]
        }
      ]
    }
  ]
}